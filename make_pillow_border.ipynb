{
 "cells": [
  {
   "cell_type": "code",
   "execution_count": 1,
   "outputs": [
    {
     "ename": "ModuleNotFoundError",
     "evalue": "No module named 'rembg.session_base'",
     "output_type": "error",
     "traceback": [
      "\u001B[1;31m---------------------------------------------------------------------------\u001B[0m",
      "\u001B[1;31mModuleNotFoundError\u001B[0m                       Traceback (most recent call last)",
      "Cell \u001B[1;32mIn[1], line 10\u001B[0m\n\u001B[0;32m      7\u001B[0m \u001B[38;5;28;01mfrom\u001B[39;00m \u001B[38;5;21;01mPIL\u001B[39;00m \u001B[38;5;28;01mimport\u001B[39;00m Image\n\u001B[0;32m      8\u001B[0m \u001B[38;5;28;01mfrom\u001B[39;00m \u001B[38;5;21;01mtqdm\u001B[39;00m \u001B[38;5;28;01mimport\u001B[39;00m tqdm\n\u001B[1;32m---> 10\u001B[0m \u001B[38;5;28;01mfrom\u001B[39;00m \u001B[38;5;21;01mUtils\u001B[39;00m\u001B[38;5;21;01m.\u001B[39;00m\u001B[38;5;21;01mu2net_bg\u001B[39;00m \u001B[38;5;28;01mimport\u001B[39;00m remove\n\u001B[0;32m     11\u001B[0m \u001B[38;5;28;01mfrom\u001B[39;00m \u001B[38;5;21;01mUtils\u001B[39;00m\u001B[38;5;21;01m.\u001B[39;00m\u001B[38;5;21;01mpreprocess\u001B[39;00m \u001B[38;5;28;01mimport\u001B[39;00m stroke_contour, stroke_mask, scale_for_paste, adjust_outline_height\n",
      "File \u001B[1;32m~\\Desktop\\background_masking_bakcha\\Utils\\u2net_bg.py:16\u001B[0m\n\u001B[0;32m     12\u001B[0m \u001B[38;5;28;01mimport\u001B[39;00m \u001B[38;5;21;01monnxruntime\u001B[39;00m \u001B[38;5;28;01mas\u001B[39;00m \u001B[38;5;21;01mort\u001B[39;00m\n\u001B[0;32m     14\u001B[0m \u001B[38;5;28;01mfrom\u001B[39;00m \u001B[38;5;21;01mrembg\u001B[39;00m \u001B[38;5;28;01mimport\u001B[39;00m \u001B[38;5;241m*\u001B[39m\n\u001B[1;32m---> 16\u001B[0m \u001B[38;5;28;01mfrom\u001B[39;00m \u001B[38;5;21;01mUtils\u001B[39;00m\u001B[38;5;21;01m.\u001B[39;00m\u001B[38;5;21;01msimple_session\u001B[39;00m \u001B[38;5;28;01mimport\u001B[39;00m SimpleSession\n\u001B[0;32m     17\u001B[0m \u001B[38;5;28;01mfrom\u001B[39;00m \u001B[38;5;21;01mUtils\u001B[39;00m\u001B[38;5;21;01m.\u001B[39;00m\u001B[38;5;21;01mbg\u001B[39;00m \u001B[38;5;28;01mimport\u001B[39;00m post_process, naive_cutout, alpha_matting_cutout, get_concat_v_multi\n\u001B[0;32m     20\u001B[0m \u001B[38;5;28;01mclass\u001B[39;00m \u001B[38;5;21;01mReturnType\u001B[39;00m(Enum):\n",
      "File \u001B[1;32m~\\Desktop\\background_masking_bakcha\\Utils\\simple_session.py:13\u001B[0m\n\u001B[0;32m     10\u001B[0m \u001B[38;5;28;01mfrom\u001B[39;00m \u001B[38;5;21;01mPIL\u001B[39;00m \u001B[38;5;28;01mimport\u001B[39;00m Image\n\u001B[0;32m     11\u001B[0m \u001B[38;5;28;01mfrom\u001B[39;00m \u001B[38;5;21;01mPIL\u001B[39;00m\u001B[38;5;21;01m.\u001B[39;00m\u001B[38;5;21;01mImage\u001B[39;00m \u001B[38;5;28;01mimport\u001B[39;00m Image \u001B[38;5;28;01mas\u001B[39;00m PILImage\n\u001B[1;32m---> 13\u001B[0m \u001B[38;5;28;01mfrom\u001B[39;00m \u001B[38;5;21;01mrembg\u001B[39;00m\u001B[38;5;21;01m.\u001B[39;00m\u001B[38;5;21;01msession_base\u001B[39;00m \u001B[38;5;28;01mimport\u001B[39;00m BaseSession\n\u001B[0;32m     16\u001B[0m \u001B[38;5;28;01mclass\u001B[39;00m \u001B[38;5;21;01mSimpleSession\u001B[39;00m(BaseSession):\n\u001B[0;32m     17\u001B[0m     \u001B[38;5;28;01mdef\u001B[39;00m \u001B[38;5;21mpredict\u001B[39m(\u001B[38;5;28mself\u001B[39m, img: PILImage, size: \u001B[38;5;28mint\u001B[39m) \u001B[38;5;241m-\u001B[39m\u001B[38;5;241m>\u001B[39m List[PILImage]:\n",
      "\u001B[1;31mModuleNotFoundError\u001B[0m: No module named 'rembg.session_base'"
     ]
    }
   ],
   "source": [
    "import os\n",
    "from glob import glob\n",
    "import shutil\n",
    "\n",
    "import numpy as np\n",
    "import cv2\n",
    "from PIL import Image\n",
    "from tqdm import tqdm\n",
    "\n",
    "from Utils.u2net_bg import remove\n",
    "from Utils.preprocess import stroke_contour, stroke_mask, scale_for_paste, adjust_outline_height"
   ],
   "metadata": {
    "collapsed": false
   }
  },
  {
   "cell_type": "code",
   "execution_count": null,
   "outputs": [],
   "source": [
    "cwd = os.getcwd()\n",
    "image_dirs = glob(cwd + \"\\\\chachacha_test2\\\\outdoor\\\\*\", recursive = True)\n",
    "img_paths = []\n",
    "\n",
    "for dir in image_dirs:\n",
    "    img_path = os.listdir(dir)\n",
    "    for path in img_path:\n",
    "        if 'mask' in path:\n",
    "            continue\n",
    "        if 'orig' in path:\n",
    "            continue\n",
    "        if 'process' in path:\n",
    "            continue\n",
    "        if 'visual' in path:\n",
    "            continue\n",
    "        img_paths.append(dir + path)"
   ],
   "metadata": {
    "collapsed": false
   }
  },
  {
   "cell_type": "code",
   "execution_count": 29,
   "outputs": [
    {
     "name": "stderr",
     "output_type": "stream",
     "text": [
      "100%|██████████| 22/22 [03:14<00:00,  8.85s/it]\n"
     ]
    }
   ],
   "source": [
    "for i in tqdm(img_paths[:1]):\n",
    "    img_path = i\n",
    "    process_path = i.split(\".\")[0] + '_process.png'\n",
    "    mask_path = i.split(\".\")[0] + '_mask.png'\n",
    "    orig_path = i.split(\".\")[0] + '_orig.png'\n",
    "    visual_path = i.split(\".\")[0] + '_visualize.png'\n",
    "\n",
    "    # 세그멘테이션 및 정사각형 이미지 생성\n",
    "    car = np.array(remove(Image.open(i), alpha_matting=True, post_process_mask=True, model_name='InSPyReNet', size=1024))    #model_name='u2car_v2.1', size=320 model_name='InSPyReNet', size=1024\n",
    "\n",
    "    i, j = np.where(car[:,:,3] > 0)\n",
    "    ratio = ((j.max() - j.min()) / (i.max() - i.min())) ** 2 * 0.35\n",
    "    width_offset = np.rint((j.max() - j.min()) * 0.15 / ratio).astype('uint16')\n",
    "    height_offset = np.rint((i.max() - i.min()) * 0.15 / ratio).astype('uint16')\n",
    "\n",
    "    y_min = i.min()-height_offset if i.min()-height_offset > 0 else 0\n",
    "    y_max = i.max()+height_offset if i.max()+height_offset < car.shape[0] else car.shape[0]\n",
    "    x_min = j.min()-width_offset if j.min()-width_offset > 0 else 0\n",
    "    x_max = j.max()+width_offset if j.max()+width_offset < car.shape[1] else car.shape[1]\n",
    "    car = car[y_min:y_max, x_min:x_max, :]\n",
    "\n",
    "    ## 마스크 및 윤곽선 생성\n",
    "    foreground_mask, foreground, foreground_alpha = stroke_mask(car, threshold=0, mask_size=car.shape[0] // 8,\n",
    "                                                                colors=(230, 230, 230))\n",
    "    foreground_contour = stroke_contour(car, threshold=0, mask_size=np.shape(car)[0] // 8, colors=(230, 230, 230),\n",
    "                                        contour_size=np.shape(car)[\n",
    "                                                         0] // 108)  # 윤곽선을 포함한 차량 이미지, 배경 없음 (N x N x 4), 'RGBA'\n",
    "\n",
    "    ## 배경 생성\n",
    "    img = Image.open('background1.png').convert('RGB')\n",
    "    img_array = np.array(img)\n",
    "\n",
    "    foreground_resized, background_resized = scale_for_paste(img_array, np.array(foreground), 4, 255)\n",
    "    image = Image.alpha_composite(Image.fromarray(background_resized), Image.fromarray(\n",
    "        foreground_resized))  # 합성된 차량 이미지, 디지털 이미지 배경 (N x N x 4), N = argmax(H,W)+stroke_size, 'RGBA'\n",
    "\n",
    "    ## 마스크 array 크기 조정\n",
    "    mask_resized, _ = scale_for_paste(img_array, np.array(foreground_mask), 4, 255)\n",
    "\n",
    "    ## 윤곽선 array 및 foreground alpha array 크기 조정\n",
    "    white_image = np.ones(img_array.shape, dtype='uint8') * 255\n",
    "    contour_resized, _ = scale_for_paste(white_image, np.expand_dims(np.array(foreground_contour)[:, :, 3], axis=2), 1,\n",
    "                                         255)\n",
    "    alpha_resized, _ = scale_for_paste(white_image, np.expand_dims(foreground_alpha, axis=2), 1, 0)   # (N x N x 1)\n",
    "\n",
    "    ## 윤곽선 array에서 좌우 윤곽선 높이 지정\n",
    "    contour_resized = adjust_outline_height(alpha_resized, contour_resized)\n",
    "\n",
    "    ## 최초 마스크 및 윤곽선, Alpha 채널 값을 고려한 최종 마스크 생성\n",
    "    i, j = np.where(mask_resized[:, :, 3] == 0)\n",
    "    k, l = np.where(alpha_resized[:, :, 0] == 0)\n",
    "    m, n = np.where(contour_resized[:, :, 0] == 255)\n",
    "\n",
    "    mask_ = np.ones(mask_resized.shape[:2], dtype='uint8') * 0\n",
    "    mask_[i, j] = 255\n",
    "    mask_[int(mask_resized.shape[0] * 0.525):, :] = 0\n",
    "    mask_[k, l] = 255\n",
    "    mask_[:k.min(), :] = 255\n",
    "    mask_[m, n] = 255\n",
    "\n",
    "    mask = Image.fromarray(mask_)\n",
    "\n",
    "    mask_reverse = np.expand_dims(np.where(mask_< 128, 255, 0).astype('uint8'), axis=2)\n",
    "    mask_ = np.append(np.tile(np.expand_dims(mask_, axis=2), reps=[1, 1, 3]), mask_reverse, axis=-1) # , np.ones((mask_.shape[0], mask_.shape[1], 1), dtype='uint8') * 255, axis = 2) // ,\n",
    "    mask = Image.fromarray(mask_, mode='RGBA')\n",
    "\n",
    "\n",
    "    image.save(process_path)\n",
    "    mask.save(mask_path)\n",
    "    Image.fromarray(foreground_resized).save(orig_path)\n",
    "    Image.alpha_composite(image, mask).save(visual_path)\n",
    "    # Image.alpha_composite(image, Image.fromarray(foreground_resized)).save(visual_path)"
   ],
   "metadata": {
    "collapsed": false
   }
  },
  {
   "cell_type": "code",
   "execution_count": 27,
   "outputs": [],
   "source": [],
   "metadata": {
    "collapsed": false
   }
  }
 ],
 "metadata": {
  "kernelspec": {
   "display_name": "Python 3 (ipykernel)",
   "language": "python",
   "name": "python3"
  },
  "language_info": {
   "codemirror_mode": {
    "name": "ipython",
    "version": 3
   },
   "file_extension": ".py",
   "mimetype": "text/x-python",
   "name": "python",
   "nbconvert_exporter": "python",
   "pygments_lexer": "ipython3",
   "version": "3.10.8"
  }
 },
 "nbformat": 4,
 "nbformat_minor": 5
}
